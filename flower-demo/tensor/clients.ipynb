{
 "cells": [
  {
   "cell_type": "code",
   "execution_count": null,
   "metadata": {},
   "outputs": [],
   "source": [
    "import os\n",
    "\n",
    "import flwr as fl\n",
    "import tensorflow as tf\n",
    "from tensorflow import keras\n",
    "from keras import layers\n",
    "import utils as ut\n",
    "import numpy as np\n",
    "from typing import Dict, Optional, Tuple"
   ]
  },
  {
   "cell_type": "code",
   "execution_count": null,
   "metadata": {},
   "outputs": [],
   "source": [
    "def get_model():\n",
    "    \n",
    "model = tf.keras.models.Sequential(\n",
    "    [\n",
    "        layers.Input(shape=(8,)),  \n",
    "        layers.Dense(64, activation='relu'),\n",
    "        layers.Dense(64, activation='relu'),  \n",
    "        layers.Dense(1)  \n",
    "    ]\n",
    ")\n",
    "model.compile(optimizer='adam', loss='mean_squared_error', metrics=['mae', 'mse'])\n",
    "return model"
   ]
  },
  {
   "cell_type": "code",
   "execution_count": null,
   "metadata": {},
   "outputs": [],
   "source": [
    "class CifarClient(fl.client.NumPyClient):\n",
    "    def __init__(self, model, x_train, y_train, x_test, y_test):\n",
    "        self.model = model\n",
    "        self.x_train, self.y_train = x_train, y_train\n",
    "        self.x_test, self.y_test = x_test, y_test\n",
    "\n",
    "    def fit(self, parameters, config):\n",
    "        \"\"\"Train parameters on the locally held training set.\"\"\"\n",
    "\n",
    "        # Update local model parameters\n",
    "        self.model.set_weights(parameters)\n",
    "\n",
    "        # Get hyperparameters for this round\n",
    "        batch_size: int = config[\"batch_size\"]\n",
    "        epochs: int = config[\"local_epochs\"]\n",
    "\n",
    "        # Train the model using hyperparameters from config\n",
    "        history = self.model.fit(\n",
    "            self.x_train,\n",
    "            self.y_train,\n",
    "            batch_size=batch_size,\n",
    "            epochs=epochs,\n",
    "            validation_split=0.2,\n",
    "        )\n",
    "\n",
    "        # Return updated model parameters, number of examples trained, and results\n",
    "        parameters_prime = self.model.get_weights()\n",
    "        num_examples_train = len(self.x_train)\n",
    "        results = {\n",
    "            \"mse\": history.history[\"mse\"][-1],  # Use the last epoch's MSE\n",
    "            \"mae\": history.history[\"mae\"][-1],  # Use the last epoch's MAE\n",
    "            \"val_mse\": history.history[\"val_mse\"][-1],  # Use the last epoch's validation MSE\n",
    "            \"val_mae\": history.history[\"val_mae\"][-1],  # Use the last epoch's validation MAE\n",
    "        }\n",
    "\n",
    "        return parameters_prime, num_examples_train, results\n",
    "\n",
    "    def get_parameters(self):\n",
    "        \"\"\"Get the current parameters of the local model.\"\"\"\n",
    "        return self.model.get_weights()\n",
    "\n",
    "    def evaluate(self, parameters, config):\n",
    "        \"\"\"Evaluate parameters on the locally held test set.\"\"\"\n",
    "        self.model.set_weights(parameters)\n",
    "        loss = tf.keras.losses.mean_squared_error(self.y_test, self.model.predict(self.x_test)).numpy().mean().item()\n",
    "        mae = tf.keras.metrics.mean_absolute_error(self.y_test, self.model.predict(self.x_test)).numpy().mean().item()\n",
    "        print(\"*************LOSS******************\",loss)\n",
    "        print(\"************MAE********************\",mae)\n",
    "        return loss, len(self.x_train), {\"mae\": mae}\n",
    "\n",
    "    def get_weights(self):\n",
    "        \"\"\"Get the current weights of the local model.\"\"\"\n",
    "        return self.model.get_weights()\n",
    "\n",
    "    def set_weights(self, weights):\n",
    "        \"\"\"Set the weights of the local model.\"\"\"\n",
    "        self.model.set_weights(weights)"
   ]
  },
  {
   "cell_type": "code",
   "execution_count": null,
   "metadata": {},
   "outputs": [],
   "source": [
    "histories = []\n",
    "for i in range(4):\n",
    "    (x_train, y_train), (x_test, y_test) = ut.partition_dataset(2,4,i)\n",
    "\n",
    "    client = CifarClient(model, x_train, y_train, x_test, y_test)\n",
    "\n",
    "    history = fl.client.start_numpy_client(\n",
    "        server_address=\"127.0.0.1:8080\",\n",
    "        client=client,\n",
    "    )\n",
    "\n",
    "    histories.append(history)"
   ]
  },
  {
   "cell_type": "code",
   "execution_count": null,
   "metadata": {},
   "outputs": [],
   "source": [
    "print(histories)"
   ]
  }
 ],
 "metadata": {
  "language_info": {
   "name": "python"
  }
 },
 "nbformat": 4,
 "nbformat_minor": 2
}
