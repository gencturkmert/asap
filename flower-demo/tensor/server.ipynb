{
 "cells": [
  {
   "cell_type": "code",
   "execution_count": 1,
   "metadata": {},
   "outputs": [
    {
     "name": "stdout",
     "output_type": "stream",
     "text": [
      "WARNING:tensorflow:From c:\\Python311\\Lib\\site-packages\\keras\\src\\losses.py:2976: The name tf.losses.sparse_softmax_cross_entropy is deprecated. Please use tf.compat.v1.losses.sparse_softmax_cross_entropy instead.\n",
      "\n"
     ]
    }
   ],
   "source": [
    "import flwr as fl\n",
    "import tensorflow as tf\n",
    "from tensorflow import keras\n",
    "from keras import layers\n",
    "import utils as ut\n",
    "from typing import Dict, Optional, Tuple\n",
    "from pathlib import Path\n",
    "import numpy as np"
   ]
  },
  {
   "cell_type": "code",
   "execution_count": 2,
   "metadata": {},
   "outputs": [],
   "source": [
    "\n",
    "def get_evaluate_fn(model, x_test, y_test):\n",
    "    \"\"\"Return an evaluation function for server-side evaluation.\"\"\"\n",
    "\n",
    "    # The `evaluate` function will be called after every round\n",
    "    def evaluate(\n",
    "        server_round: int,\n",
    "        parameters: fl.common.NDArrays,\n",
    "        config: Dict[str, fl.common.Scalar],\n",
    "    ) -> Optional[Tuple[float, Dict[str, fl.common.Scalar]]]:\n",
    "\n",
    "        # Update the model with the latest parameters\n",
    "        model.set_weights(parameters)\n",
    "\n",
    "        # Evaluate the model on the test data\n",
    "        predictions = model.predict(x_test)\n",
    "        loss = tf.keras.losses.mean_squared_error(y_test, predictions).numpy().mean().item()\n",
    "        mae = tf.keras.metrics.mean_absolute_error(y_test, predictions).numpy().mean().item()\n",
    "\n",
    "        return loss, {\"mae\": mae}\n",
    "\n",
    "    return evaluate\n",
    "\n",
    "def fit_config(server_round: int):\n",
    "    \"\"\"Return training configuration dict for each round.\n",
    "\n",
    "    Keep batch size fixed at 32, perform two rounds of training with one local epoch,\n",
    "    increase to two local epochs afterwards.\n",
    "    \"\"\"\n",
    "    config = {\n",
    "        \"batch_size\": 128,\n",
    "        \"local_epochs\": 50 if server_round < 2 else 100,\n",
    "    }\n",
    "    return config\n",
    "\n",
    "\n",
    "def evaluate_config(server_round: int):\n",
    "    \"\"\"Return evaluation configuration dict for each round.\n",
    "\n",
    "    Perform five local evaluation steps on each client (i.e., use five batches) during\n",
    "    rounds one to three, then increase to ten local evaluation steps.\n",
    "    \"\"\"\n",
    "    val_steps = 5 if server_round < 4 else 10\n",
    "    return {\"val_steps\": val_steps}"
   ]
  },
  {
   "cell_type": "code",
   "execution_count": 3,
   "metadata": {},
   "outputs": [
    {
     "name": "stdout",
     "output_type": "stream",
     "text": [
      "WARNING:tensorflow:From c:\\Python311\\Lib\\site-packages\\keras\\src\\backend.py:1398: The name tf.executing_eagerly_outside_functions is deprecated. Please use tf.compat.v1.executing_eagerly_outside_functions instead.\n",
      "\n",
      "WARNING:tensorflow:From c:\\Python311\\Lib\\site-packages\\keras\\src\\optimizers\\__init__.py:309: The name tf.train.Optimizer is deprecated. Please use tf.compat.v1.train.Optimizer instead.\n",
      "\n"
     ]
    }
   ],
   "source": [
    "(x_train, y_train), (x_test, y_test) = ut.partition_dataset(2,3,1)\n",
    "\n",
    "model = tf.keras.models.Sequential(\n",
    "    [\n",
    "        layers.Input(shape=(8,)),  \n",
    "        layers.Dense(64, activation='relu'),\n",
    "        layers.Dense(64, activation='relu'),  \n",
    "        layers.Dense(1)  \n",
    "    ]\n",
    ")\n",
    "model.compile(optimizer='adam', loss='mean_squared_error', metrics=['mae', 'mse'])\n",
    "\n",
    "strategy = fl.server.strategy.FedAvg(\n",
    "    fraction_fit=0.75,\n",
    "    fraction_evaluate=1,\n",
    "    min_fit_clients=3,\n",
    "    min_evaluate_clients=4,\n",
    "    min_available_clients=4,\n",
    "    evaluate_fn=get_evaluate_fn(model,x_test,y_test),\n",
    "    on_fit_config_fn=fit_config,\n",
    "    on_evaluate_config_fn=evaluate_config,\n",
    "    initial_parameters=fl.common.ndarrays_to_parameters(model.get_weights()),\n",
    ")\n",
    "\n",
    "\n"
   ]
  },
  {
   "cell_type": "code",
   "execution_count": 4,
   "metadata": {},
   "outputs": [
    {
     "name": "stderr",
     "output_type": "stream",
     "text": [
      "INFO flwr 2023-11-23 01:42:27,112 | app.py:162 | Starting Flower server, config: ServerConfig(num_rounds=10, round_timeout=None)\n",
      "INFO flwr 2023-11-23 01:42:27,148 | app.py:175 | Flower ECE: gRPC server running (10 rounds), SSL is disabled\n",
      "INFO flwr 2023-11-23 01:42:27,149 | server.py:89 | Initializing global parameters\n",
      "INFO flwr 2023-11-23 01:42:27,150 | server.py:272 | Using initial parameters provided by strategy\n",
      "INFO flwr 2023-11-23 01:42:27,151 | server.py:91 | Evaluating initial parameters\n"
     ]
    },
    {
     "name": "stdout",
     "output_type": "stream",
     "text": [
      "129/129 [==============================] - 0s 820us/step\n"
     ]
    },
    {
     "name": "stderr",
     "output_type": "stream",
     "text": [
      "INFO flwr 2023-11-23 01:42:27,527 | server.py:94 | initial parameters (loss, other metrics): 5.977473735809326, {'mae': 2.160243272781372}\n",
      "INFO flwr 2023-11-23 01:42:27,528 | server.py:104 | FL starting\n",
      "DEBUG flwr 2023-11-23 01:42:59,036 | server.py:222 | fit_round 1: strategy sampled 3 clients (out of 4)\n",
      "DEBUG flwr 2023-11-23 01:43:00,441 | server.py:236 | fit_round 1 received 3 results and 0 failures\n",
      "WARNING flwr 2023-11-23 01:43:00,443 | fedavg.py:242 | No fit_metrics_aggregation_fn provided\n"
     ]
    },
    {
     "name": "stdout",
     "output_type": "stream",
     "text": [
      "129/129 [==============================] - 0s 828us/step\n"
     ]
    },
    {
     "name": "stderr",
     "output_type": "stream",
     "text": [
      "INFO flwr 2023-11-23 01:43:00,688 | server.py:125 | fit progress: (1, 2.9103686809539795, {'mae': 1.2954483032226562}, 33.15934220002964)\n",
      "DEBUG flwr 2023-11-23 01:43:00,689 | server.py:173 | evaluate_round 1: strategy sampled 4 clients (out of 4)\n",
      "DEBUG flwr 2023-11-23 01:43:01,526 | server.py:187 | evaluate_round 1 received 4 results and 0 failures\n",
      "WARNING flwr 2023-11-23 01:43:01,528 | fedavg.py:273 | No evaluate_metrics_aggregation_fn provided\n",
      "DEBUG flwr 2023-11-23 01:43:01,529 | server.py:222 | fit_round 2: strategy sampled 3 clients (out of 4)\n",
      "DEBUG flwr 2023-11-23 01:43:02,885 | server.py:236 | fit_round 2 received 3 results and 0 failures\n"
     ]
    },
    {
     "name": "stdout",
     "output_type": "stream",
     "text": [
      "129/129 [==============================] - 0s 820us/step\n"
     ]
    },
    {
     "name": "stderr",
     "output_type": "stream",
     "text": [
      "INFO flwr 2023-11-23 01:43:03,138 | server.py:125 | fit progress: (2, 1.3876734972000122, {'mae': 0.9221519827842712}, 35.609570000029635)\n",
      "DEBUG flwr 2023-11-23 01:43:03,139 | server.py:173 | evaluate_round 2: strategy sampled 4 clients (out of 4)\n",
      "DEBUG flwr 2023-11-23 01:43:03,893 | server.py:187 | evaluate_round 2 received 4 results and 0 failures\n",
      "DEBUG flwr 2023-11-23 01:43:03,894 | server.py:222 | fit_round 3: strategy sampled 3 clients (out of 4)\n",
      "DEBUG flwr 2023-11-23 01:43:04,225 | server.py:236 | fit_round 3 received 3 results and 0 failures\n"
     ]
    },
    {
     "name": "stdout",
     "output_type": "stream",
     "text": [
      "129/129 [==============================] - 0s 738us/step\n"
     ]
    },
    {
     "name": "stderr",
     "output_type": "stream",
     "text": [
      "INFO flwr 2023-11-23 01:43:04,458 | server.py:125 | fit progress: (3, 1.494423508644104, {'mae': 0.9639512300491333}, 36.92970490001608)\n",
      "DEBUG flwr 2023-11-23 01:43:04,459 | server.py:173 | evaluate_round 3: strategy sampled 4 clients (out of 4)\n",
      "DEBUG flwr 2023-11-23 01:43:05,281 | server.py:187 | evaluate_round 3 received 4 results and 0 failures\n",
      "DEBUG flwr 2023-11-23 01:43:05,283 | server.py:222 | fit_round 4: strategy sampled 3 clients (out of 4)\n",
      "DEBUG flwr 2023-11-23 01:43:05,607 | server.py:236 | fit_round 4 received 3 results and 0 failures\n"
     ]
    },
    {
     "name": "stdout",
     "output_type": "stream",
     "text": [
      "129/129 [==============================] - 0s 829us/step\n"
     ]
    },
    {
     "name": "stderr",
     "output_type": "stream",
     "text": [
      "INFO flwr 2023-11-23 01:43:05,854 | server.py:125 | fit progress: (4, 1.8109973669052124, {'mae': 1.0409014225006104}, 38.32549640000798)\n",
      "DEBUG flwr 2023-11-23 01:43:05,855 | server.py:173 | evaluate_round 4: strategy sampled 4 clients (out of 4)\n",
      "DEBUG flwr 2023-11-23 01:43:06,639 | server.py:187 | evaluate_round 4 received 4 results and 0 failures\n",
      "DEBUG flwr 2023-11-23 01:43:06,640 | server.py:222 | fit_round 5: strategy sampled 3 clients (out of 4)\n",
      "DEBUG flwr 2023-11-23 01:43:06,964 | server.py:236 | fit_round 5 received 3 results and 0 failures\n"
     ]
    },
    {
     "name": "stdout",
     "output_type": "stream",
     "text": [
      "129/129 [==============================] - 0s 773us/step\n"
     ]
    },
    {
     "name": "stderr",
     "output_type": "stream",
     "text": [
      "INFO flwr 2023-11-23 01:43:07,202 | server.py:125 | fit progress: (5, 2.0660860538482666, {'mae': 1.1044645309448242}, 39.673813899978995)\n",
      "DEBUG flwr 2023-11-23 01:43:07,203 | server.py:173 | evaluate_round 5: strategy sampled 4 clients (out of 4)\n",
      "DEBUG flwr 2023-11-23 01:43:07,945 | server.py:187 | evaluate_round 5 received 4 results and 0 failures\n",
      "DEBUG flwr 2023-11-23 01:43:07,947 | server.py:222 | fit_round 6: strategy sampled 3 clients (out of 4)\n",
      "DEBUG flwr 2023-11-23 01:43:08,277 | server.py:236 | fit_round 6 received 3 results and 0 failures\n"
     ]
    },
    {
     "name": "stdout",
     "output_type": "stream",
     "text": [
      "129/129 [==============================] - 0s 773us/step\n"
     ]
    },
    {
     "name": "stderr",
     "output_type": "stream",
     "text": [
      "INFO flwr 2023-11-23 01:43:08,524 | server.py:125 | fit progress: (6, 2.0793609619140625, {'mae': 1.1045624017715454}, 40.99545410001883)\n",
      "DEBUG flwr 2023-11-23 01:43:08,525 | server.py:173 | evaluate_round 6: strategy sampled 4 clients (out of 4)\n",
      "DEBUG flwr 2023-11-23 01:43:09,355 | server.py:187 | evaluate_round 6 received 4 results and 0 failures\n",
      "DEBUG flwr 2023-11-23 01:43:09,356 | server.py:222 | fit_round 7: strategy sampled 3 clients (out of 4)\n",
      "DEBUG flwr 2023-11-23 01:43:09,675 | server.py:236 | fit_round 7 received 3 results and 0 failures\n"
     ]
    },
    {
     "name": "stdout",
     "output_type": "stream",
     "text": [
      "129/129 [==============================] - 0s 781us/step\n"
     ]
    },
    {
     "name": "stderr",
     "output_type": "stream",
     "text": [
      "INFO flwr 2023-11-23 01:43:09,918 | server.py:125 | fit progress: (7, 2.0867295265197754, {'mae': 1.1128555536270142}, 42.389280000003055)\n",
      "DEBUG flwr 2023-11-23 01:43:09,918 | server.py:173 | evaluate_round 7: strategy sampled 4 clients (out of 4)\n",
      "DEBUG flwr 2023-11-23 01:43:10,730 | server.py:187 | evaluate_round 7 received 4 results and 0 failures\n",
      "DEBUG flwr 2023-11-23 01:43:10,731 | server.py:222 | fit_round 8: strategy sampled 3 clients (out of 4)\n",
      "DEBUG flwr 2023-11-23 01:43:11,074 | server.py:236 | fit_round 8 received 3 results and 0 failures\n"
     ]
    },
    {
     "name": "stdout",
     "output_type": "stream",
     "text": [
      "129/129 [==============================] - 0s 769us/step\n"
     ]
    },
    {
     "name": "stderr",
     "output_type": "stream",
     "text": [
      "INFO flwr 2023-11-23 01:43:11,311 | server.py:125 | fit progress: (8, 2.0804426670074463, {'mae': 1.1065306663513184}, 43.78295259998413)\n",
      "DEBUG flwr 2023-11-23 01:43:11,312 | server.py:173 | evaluate_round 8: strategy sampled 4 clients (out of 4)\n",
      "DEBUG flwr 2023-11-23 01:43:12,076 | server.py:187 | evaluate_round 8 received 4 results and 0 failures\n",
      "DEBUG flwr 2023-11-23 01:43:12,078 | server.py:222 | fit_round 9: strategy sampled 3 clients (out of 4)\n",
      "DEBUG flwr 2023-11-23 01:43:12,399 | server.py:236 | fit_round 9 received 3 results and 0 failures\n"
     ]
    },
    {
     "name": "stdout",
     "output_type": "stream",
     "text": [
      "129/129 [==============================] - 0s 763us/step\n"
     ]
    },
    {
     "name": "stderr",
     "output_type": "stream",
     "text": [
      "INFO flwr 2023-11-23 01:43:12,630 | server.py:125 | fit progress: (9, 2.1066629886627197, {'mae': 1.1165728569030762}, 45.102012099989224)\n",
      "DEBUG flwr 2023-11-23 01:43:12,632 | server.py:173 | evaluate_round 9: strategy sampled 4 clients (out of 4)\n",
      "DEBUG flwr 2023-11-23 01:43:13,394 | server.py:187 | evaluate_round 9 received 4 results and 0 failures\n",
      "DEBUG flwr 2023-11-23 01:43:13,396 | server.py:222 | fit_round 10: strategy sampled 3 clients (out of 4)\n",
      "DEBUG flwr 2023-11-23 01:43:13,725 | server.py:236 | fit_round 10 received 3 results and 0 failures\n"
     ]
    },
    {
     "name": "stdout",
     "output_type": "stream",
     "text": [
      "129/129 [==============================] - 0s 758us/step\n"
     ]
    },
    {
     "name": "stderr",
     "output_type": "stream",
     "text": [
      "INFO flwr 2023-11-23 01:43:14,002 | server.py:125 | fit progress: (10, 2.112994909286499, {'mae': 1.1158357858657837}, 46.47409929998685)\n",
      "DEBUG flwr 2023-11-23 01:43:14,003 | server.py:173 | evaluate_round 10: strategy sampled 4 clients (out of 4)\n",
      "DEBUG flwr 2023-11-23 01:43:14,796 | server.py:187 | evaluate_round 10 received 4 results and 0 failures\n",
      "INFO flwr 2023-11-23 01:43:14,797 | server.py:153 | FL finished in 47.26865069998894\n",
      "INFO flwr 2023-11-23 01:43:14,798 | app.py:225 | app_fit: losses_distributed [(1, 2.9225618839263916), (2, 1.3900328278541565), (3, 1.4962337017059326), (4, 1.813601404428482), (5, 2.068624198436737), (6, 2.0803247690200806), (7, 2.0922287702560425), (8, 2.0831031799316406), (9, 2.1123417019844055), (10, 2.1179683804512024)]\n",
      "INFO flwr 2023-11-23 01:43:14,799 | app.py:226 | app_fit: metrics_distributed_fit {}\n",
      "INFO flwr 2023-11-23 01:43:14,800 | app.py:227 | app_fit: metrics_distributed {}\n",
      "INFO flwr 2023-11-23 01:43:14,800 | app.py:228 | app_fit: losses_centralized [(0, 5.977473735809326), (1, 2.9103686809539795), (2, 1.3876734972000122), (3, 1.494423508644104), (4, 1.8109973669052124), (5, 2.0660860538482666), (6, 2.0793609619140625), (7, 2.0867295265197754), (8, 2.0804426670074463), (9, 2.1066629886627197), (10, 2.112994909286499)]\n",
      "INFO flwr 2023-11-23 01:43:14,801 | app.py:229 | app_fit: metrics_centralized {'mae': [(0, 2.160243272781372), (1, 1.2954483032226562), (2, 0.9221519827842712), (3, 0.9639512300491333), (4, 1.0409014225006104), (5, 1.1044645309448242), (6, 1.1045624017715454), (7, 1.1128555536270142), (8, 1.1065306663513184), (9, 1.1165728569030762), (10, 1.1158357858657837)]}\n"
     ]
    }
   ],
   "source": [
    "# Start Flower server\n",
    "history_with_noise = fl.server.start_server(\n",
    "    server_address=\"127.0.0.1:8080\",\n",
    "    config=fl.server.ServerConfig(num_rounds=10),\n",
    "    strategy = strategy\n",
    ")"
   ]
  },
  {
   "cell_type": "code",
   "execution_count": 17,
   "metadata": {},
   "outputs": [
    {
     "name": "stderr",
     "output_type": "stream",
     "text": [
      "INFO flwr 2023-11-23 01:45:43,624 | app.py:162 | Starting Flower server, config: ServerConfig(num_rounds=10, round_timeout=None)\n"
     ]
    },
    {
     "name": "stderr",
     "output_type": "stream",
     "text": [
      "INFO flwr 2023-11-23 01:45:43,657 | app.py:175 | Flower ECE: gRPC server running (10 rounds), SSL is disabled\n",
      "INFO flwr 2023-11-23 01:45:43,658 | server.py:89 | Initializing global parameters\n",
      "INFO flwr 2023-11-23 01:45:43,659 | server.py:272 | Using initial parameters provided by strategy\n",
      "INFO flwr 2023-11-23 01:45:43,659 | server.py:91 | Evaluating initial parameters\n"
     ]
    },
    {
     "name": "stdout",
     "output_type": "stream",
     "text": [
      "129/129 [==============================] - 0s 836us/step\n"
     ]
    },
    {
     "name": "stderr",
     "output_type": "stream",
     "text": [
      "INFO flwr 2023-11-23 01:45:43,913 | server.py:94 | initial parameters (loss, other metrics): 2.112994909286499, {'mae': 1.1158357858657837}\n",
      "INFO flwr 2023-11-23 01:45:43,914 | server.py:104 | FL starting\n",
      "DEBUG flwr 2023-11-23 01:46:16,412 | server.py:222 | fit_round 1: strategy sampled 3 clients (out of 4)\n",
      "DEBUG flwr 2023-11-23 01:46:17,938 | server.py:236 | fit_round 1 received 3 results and 0 failures\n",
      "WARNING flwr 2023-11-23 01:46:17,940 | fedavg.py:242 | No fit_metrics_aggregation_fn provided\n"
     ]
    },
    {
     "name": "stdout",
     "output_type": "stream",
     "text": [
      "129/129 [==============================] - 0s 817us/step\n"
     ]
    },
    {
     "name": "stderr",
     "output_type": "stream",
     "text": [
      "INFO flwr 2023-11-23 01:46:18,185 | server.py:125 | fit progress: (1, 2.108571767807007, {'mae': 1.1108314990997314}, 34.270180999999866)\n",
      "DEBUG flwr 2023-11-23 01:46:18,186 | server.py:173 | evaluate_round 1: strategy sampled 4 clients (out of 4)\n",
      "DEBUG flwr 2023-11-23 01:46:19,006 | server.py:187 | evaluate_round 1 received 4 results and 0 failures\n",
      "WARNING flwr 2023-11-23 01:46:19,008 | fedavg.py:273 | No evaluate_metrics_aggregation_fn provided\n",
      "DEBUG flwr 2023-11-23 01:46:19,009 | server.py:222 | fit_round 2: strategy sampled 3 clients (out of 4)\n",
      "DEBUG flwr 2023-11-23 01:46:20,254 | server.py:236 | fit_round 2 received 3 results and 0 failures\n"
     ]
    },
    {
     "name": "stdout",
     "output_type": "stream",
     "text": [
      "129/129 [==============================] - 0s 805us/step\n"
     ]
    },
    {
     "name": "stderr",
     "output_type": "stream",
     "text": [
      "INFO flwr 2023-11-23 01:46:20,502 | server.py:125 | fit progress: (2, 2.1167314052581787, {'mae': 1.112683653831482}, 36.58679040003335)\n",
      "DEBUG flwr 2023-11-23 01:46:20,502 | server.py:173 | evaluate_round 2: strategy sampled 4 clients (out of 4)\n",
      "DEBUG flwr 2023-11-23 01:46:21,336 | server.py:187 | evaluate_round 2 received 4 results and 0 failures\n",
      "DEBUG flwr 2023-11-23 01:46:21,337 | server.py:222 | fit_round 3: strategy sampled 3 clients (out of 4)\n",
      "DEBUG flwr 2023-11-23 01:46:21,679 | server.py:236 | fit_round 3 received 3 results and 0 failures\n"
     ]
    },
    {
     "name": "stdout",
     "output_type": "stream",
     "text": [
      "129/129 [==============================] - 0s 750us/step\n"
     ]
    },
    {
     "name": "stderr",
     "output_type": "stream",
     "text": [
      "INFO flwr 2023-11-23 01:46:21,913 | server.py:125 | fit progress: (3, 2.1149325370788574, {'mae': 1.1111180782318115}, 37.99853670003358)\n",
      "DEBUG flwr 2023-11-23 01:46:21,914 | server.py:173 | evaluate_round 3: strategy sampled 4 clients (out of 4)\n",
      "DEBUG flwr 2023-11-23 01:46:22,745 | server.py:187 | evaluate_round 3 received 4 results and 0 failures\n",
      "DEBUG flwr 2023-11-23 01:46:22,746 | server.py:222 | fit_round 4: strategy sampled 3 clients (out of 4)\n",
      "DEBUG flwr 2023-11-23 01:46:23,130 | server.py:236 | fit_round 4 received 3 results and 0 failures\n"
     ]
    },
    {
     "name": "stdout",
     "output_type": "stream",
     "text": [
      "129/129 [==============================] - 0s 922us/step\n"
     ]
    },
    {
     "name": "stderr",
     "output_type": "stream",
     "text": [
      "INFO flwr 2023-11-23 01:46:23,403 | server.py:125 | fit progress: (4, 2.131324529647827, {'mae': 1.1173760890960693}, 39.488072099979036)\n",
      "DEBUG flwr 2023-11-23 01:46:23,404 | server.py:173 | evaluate_round 4: strategy sampled 4 clients (out of 4)\n",
      "DEBUG flwr 2023-11-23 01:46:24,294 | server.py:187 | evaluate_round 4 received 4 results and 0 failures\n",
      "DEBUG flwr 2023-11-23 01:46:24,295 | server.py:222 | fit_round 5: strategy sampled 3 clients (out of 4)\n",
      "DEBUG flwr 2023-11-23 01:46:24,655 | server.py:236 | fit_round 5 received 3 results and 0 failures\n"
     ]
    },
    {
     "name": "stdout",
     "output_type": "stream",
     "text": [
      "129/129 [==============================] - 0s 898us/step\n"
     ]
    },
    {
     "name": "stderr",
     "output_type": "stream",
     "text": [
      "INFO flwr 2023-11-23 01:46:24,917 | server.py:125 | fit progress: (5, 2.140336275100708, {'mae': 1.1182277202606201}, 41.002534400031436)\n",
      "DEBUG flwr 2023-11-23 01:46:24,918 | server.py:173 | evaluate_round 5: strategy sampled 4 clients (out of 4)\n",
      "DEBUG flwr 2023-11-23 01:46:25,669 | server.py:187 | evaluate_round 5 received 4 results and 0 failures\n",
      "DEBUG flwr 2023-11-23 01:46:25,671 | server.py:222 | fit_round 6: strategy sampled 3 clients (out of 4)\n",
      "DEBUG flwr 2023-11-23 01:46:26,004 | server.py:236 | fit_round 6 received 3 results and 0 failures\n"
     ]
    },
    {
     "name": "stdout",
     "output_type": "stream",
     "text": [
      "129/129 [==============================] - 0s 922us/step\n"
     ]
    },
    {
     "name": "stderr",
     "output_type": "stream",
     "text": [
      "INFO flwr 2023-11-23 01:46:26,268 | server.py:125 | fit progress: (6, 2.1470108032226562, {'mae': 1.1225687265396118}, 42.35327530000359)\n",
      "DEBUG flwr 2023-11-23 01:46:26,268 | server.py:173 | evaluate_round 6: strategy sampled 4 clients (out of 4)\n",
      "DEBUG flwr 2023-11-23 01:46:27,040 | server.py:187 | evaluate_round 6 received 4 results and 0 failures\n",
      "DEBUG flwr 2023-11-23 01:46:27,040 | server.py:222 | fit_round 7: strategy sampled 3 clients (out of 4)\n",
      "DEBUG flwr 2023-11-23 01:46:27,377 | server.py:236 | fit_round 7 received 3 results and 0 failures\n"
     ]
    },
    {
     "name": "stdout",
     "output_type": "stream",
     "text": [
      "129/129 [==============================] - 0s 884us/step\n"
     ]
    },
    {
     "name": "stderr",
     "output_type": "stream",
     "text": [
      "INFO flwr 2023-11-23 01:46:27,643 | server.py:125 | fit progress: (7, 2.1409027576446533, {'mae': 1.1191235780715942}, 43.72833210002864)\n",
      "DEBUG flwr 2023-11-23 01:46:27,644 | server.py:173 | evaluate_round 7: strategy sampled 4 clients (out of 4)\n",
      "DEBUG flwr 2023-11-23 01:46:28,469 | server.py:187 | evaluate_round 7 received 4 results and 0 failures\n",
      "DEBUG flwr 2023-11-23 01:46:28,471 | server.py:222 | fit_round 8: strategy sampled 3 clients (out of 4)\n",
      "DEBUG flwr 2023-11-23 01:46:28,860 | server.py:236 | fit_round 8 received 3 results and 0 failures\n"
     ]
    },
    {
     "name": "stdout",
     "output_type": "stream",
     "text": [
      "129/129 [==============================] - 0s 758us/step\n"
     ]
    },
    {
     "name": "stderr",
     "output_type": "stream",
     "text": [
      "INFO flwr 2023-11-23 01:46:29,107 | server.py:125 | fit progress: (8, 2.1554107666015625, {'mae': 1.121968150138855}, 45.192388500028756)\n",
      "DEBUG flwr 2023-11-23 01:46:29,108 | server.py:173 | evaluate_round 8: strategy sampled 4 clients (out of 4)\n",
      "DEBUG flwr 2023-11-23 01:46:29,849 | server.py:187 | evaluate_round 8 received 4 results and 0 failures\n",
      "DEBUG flwr 2023-11-23 01:46:29,851 | server.py:222 | fit_round 9: strategy sampled 3 clients (out of 4)\n",
      "DEBUG flwr 2023-11-23 01:46:30,222 | server.py:236 | fit_round 9 received 3 results and 0 failures\n"
     ]
    },
    {
     "name": "stdout",
     "output_type": "stream",
     "text": [
      "129/129 [==============================] - 0s 992us/step\n"
     ]
    },
    {
     "name": "stderr",
     "output_type": "stream",
     "text": [
      "INFO flwr 2023-11-23 01:46:30,500 | server.py:125 | fit progress: (9, 2.1584832668304443, {'mae': 1.1214284896850586}, 46.58567870000843)\n",
      "DEBUG flwr 2023-11-23 01:46:30,501 | server.py:173 | evaluate_round 9: strategy sampled 4 clients (out of 4)\n",
      "DEBUG flwr 2023-11-23 01:46:31,436 | server.py:187 | evaluate_round 9 received 4 results and 0 failures\n",
      "DEBUG flwr 2023-11-23 01:46:31,437 | server.py:222 | fit_round 10: strategy sampled 3 clients (out of 4)\n",
      "DEBUG flwr 2023-11-23 01:46:31,965 | server.py:236 | fit_round 10 received 3 results and 0 failures\n"
     ]
    },
    {
     "name": "stdout",
     "output_type": "stream",
     "text": [
      "129/129 [==============================] - 0s 875us/step\n"
     ]
    },
    {
     "name": "stderr",
     "output_type": "stream",
     "text": [
      "INFO flwr 2023-11-23 01:46:32,219 | server.py:125 | fit progress: (10, 2.159140110015869, {'mae': 1.1267071962356567}, 48.304939199995715)\n",
      "DEBUG flwr 2023-11-23 01:46:32,220 | server.py:173 | evaluate_round 10: strategy sampled 4 clients (out of 4)\n",
      "DEBUG flwr 2023-11-23 01:46:33,087 | server.py:187 | evaluate_round 10 received 4 results and 0 failures\n",
      "INFO flwr 2023-11-23 01:46:33,088 | server.py:153 | FL finished in 49.173792899993714\n",
      "INFO flwr 2023-11-23 01:46:33,090 | app.py:225 | app_fit: losses_distributed [(1, 2.0978851318359375), (2, 2.1095409393310547), (3, 2.103264808654785), (4, 2.119640588760376), (5, 2.1284210681915283), (6, 2.1420881748199463), (7, 2.1244852542877197), (8, 2.13070011138916), (9, 2.12174916267395), (10, 2.157604455947876)]\n",
      "INFO flwr 2023-11-23 01:46:33,090 | app.py:226 | app_fit: metrics_distributed_fit {}\n",
      "INFO flwr 2023-11-23 01:46:33,090 | app.py:227 | app_fit: metrics_distributed {}\n",
      "INFO flwr 2023-11-23 01:46:33,091 | app.py:228 | app_fit: losses_centralized [(0, 2.112994909286499), (1, 2.108571767807007), (2, 2.1167314052581787), (3, 2.1149325370788574), (4, 2.131324529647827), (5, 2.140336275100708), (6, 2.1470108032226562), (7, 2.1409027576446533), (8, 2.1554107666015625), (9, 2.1584832668304443), (10, 2.159140110015869)]\n",
      "INFO flwr 2023-11-23 01:46:33,091 | app.py:229 | app_fit: metrics_centralized {'mae': [(0, 1.1158357858657837), (1, 1.1108314990997314), (2, 1.112683653831482), (3, 1.1111180782318115), (4, 1.1173760890960693), (5, 1.1182277202606201), (6, 1.1225687265396118), (7, 1.1191235780715942), (8, 1.121968150138855), (9, 1.1214284896850586), (10, 1.1267071962356567)]}\n"
     ]
    }
   ],
   "source": [
    "strategy = fl.server.strategy.FedAvg(\n",
    "    fraction_fit=0.75,\n",
    "    fraction_evaluate=1,\n",
    "    min_fit_clients=3,\n",
    "    min_evaluate_clients=4,\n",
    "    min_available_clients=4,\n",
    "    evaluate_fn=get_evaluate_fn(model,x_test,y_test),\n",
    "    on_fit_config_fn=fit_config,\n",
    "    on_evaluate_config_fn=evaluate_config,\n",
    "    initial_parameters=fl.common.ndarrays_to_parameters(model.get_weights()),\n",
    ")\n",
    "\n",
    "history_without_noise = fl.server.start_server(\n",
    "    server_address=\"127.0.0.1:8081\",\n",
    "    config=fl.server.ServerConfig(num_rounds=10),\n",
    "    strategy = strategy\n",
    ")"
   ]
  },
  {
   "cell_type": "code",
   "execution_count": 18,
   "metadata": {},
   "outputs": [
    {
     "name": "stderr",
     "output_type": "stream",
     "text": [
      "INFO flwr 2023-11-23 01:48:40,584 | app.py:162 | Starting Flower server, config: ServerConfig(num_rounds=10, round_timeout=None)\n",
      "INFO flwr 2023-11-23 01:48:40,609 | app.py:175 | Flower ECE: gRPC server running (10 rounds), SSL is disabled\n",
      "INFO flwr 2023-11-23 01:48:40,611 | server.py:89 | Initializing global parameters\n",
      "INFO flwr 2023-11-23 01:48:40,611 | server.py:276 | Requesting initial parameters from one random client\n"
     ]
    }
   ],
   "source": [
    "strategy = fl.server.strategy.FedAvg(\n",
    "    fraction_fit=0.75,\n",
    "    fraction_evaluate=1,\n",
    "    min_fit_clients=3,\n",
    "    min_evaluate_clients=4,\n",
    "    min_available_clients=4,\n",
    "    evaluate_fn=get_evaluate_fn(model,x_test,y_test),\n",
    "    on_fit_config_fn=fit_config,\n",
    "    on_evaluate_config_fn=evaluate_config,\n",
    "    initial_parameters=fl.common.ndarrays_to_parameters(model.get_weights()),\n",
    ")\n",
    "\n",
    "history_with_minus_noise = fl.server.start_server(\n",
    "    server_address=\"127.0.0.1:8082\",\n",
    "    config=fl.server.ServerConfig(num_rounds=10),\n",
    "    strategy = strategy\n",
    ")"
   ]
  },
  {
   "cell_type": "code",
   "execution_count": null,
   "metadata": {},
   "outputs": [
    {
     "name": "stdout",
     "output_type": "stream",
     "text": [
      "History (loss, distributed):\n",
      "\tround 1: 2.647073984146118\n",
      "\tround 2: 1.4041863679885864\n",
      "\tround 3: 1.6445988416671753\n",
      "\tround 4: 1.935247778892517\n",
      "\tround 5: 2.0753211975097656\n",
      "\tround 6: 2.0844905376434326\n",
      "\tround 7: 2.086702585220337\n",
      "\tround 8: 2.0768063068389893\n",
      "\tround 9: 2.1068055629730225\n",
      "\tround 10: 2.0973358154296875\n",
      "History (loss, centralized):\n",
      "\tround 0: 5.924674987792969\n",
      "\tround 1: 2.647073984146118\n",
      "\tround 2: 1.4041863679885864\n",
      "\tround 3: 1.6445988416671753\n",
      "\tround 4: 1.935247778892517\n",
      "\tround 5: 2.0753211975097656\n",
      "\tround 6: 2.0844905376434326\n",
      "\tround 7: 2.086702585220337\n",
      "\tround 8: 2.0768063068389893\n",
      "\tround 9: 2.1068055629730225\n",
      "\tround 10: 2.0973358154296875\n",
      "History (metrics, centralized):\n",
      "{'mae': [(0, 2.1480019092559814), (1, 1.211744785308838), (2, 0.9283948540687561), (3, 1.0063337087631226), (4, 1.0710625648498535), (5, 1.1068549156188965), (6, 1.107938289642334), (7, 1.1093168258666992), (8, 1.1095515489578247), (9, 1.1134757995605469), (10, 1.115409255027771)]}\n"
     ]
    }
   ],
   "source": [
    "print(history)"
   ]
  }
 ],
 "metadata": {
  "kernelspec": {
   "display_name": "Python 3",
   "language": "python",
   "name": "python3"
  },
  "language_info": {
   "codemirror_mode": {
    "name": "ipython",
    "version": 3
   },
   "file_extension": ".py",
   "mimetype": "text/x-python",
   "name": "python",
   "nbconvert_exporter": "python",
   "pygments_lexer": "ipython3",
   "version": "3.11.4"
  }
 },
 "nbformat": 4,
 "nbformat_minor": 2
}
