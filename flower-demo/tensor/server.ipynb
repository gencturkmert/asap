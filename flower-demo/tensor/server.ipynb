{
 "cells": [
  {
   "cell_type": "code",
   "execution_count": null,
   "metadata": {},
   "outputs": [],
   "source": [
    "import flwr as fl\n",
    "import tensorflow as tf\n",
    "from tensorflow import keras\n",
    "from keras import layers\n",
    "import utils as ut\n",
    "from typing import Dict, Optional, Tuple\n",
    "from pathlib import Path\n",
    "import numpy as np"
   ]
  },
  {
   "cell_type": "code",
   "execution_count": null,
   "metadata": {},
   "outputs": [],
   "source": [
    "\n",
    "def get_evaluate_fn(model, x_test, y_test):\n",
    "    \"\"\"Return an evaluation function for server-side evaluation.\"\"\"\n",
    "\n",
    "    # The `evaluate` function will be called after every round\n",
    "    def evaluate(\n",
    "        server_round: int,\n",
    "        parameters: fl.common.NDArrays,\n",
    "        config: Dict[str, fl.common.Scalar],\n",
    "    ) -> Optional[Tuple[float, Dict[str, fl.common.Scalar]]]:\n",
    "\n",
    "        # Update the model with the latest parameters\n",
    "        model.set_weights(parameters)\n",
    "\n",
    "        # Evaluate the model on the test data\n",
    "        predictions = model.predict(x_test)\n",
    "        loss = tf.keras.losses.mean_squared_error(y_test, predictions).numpy().mean().item()\n",
    "        mae = tf.keras.metrics.mean_absolute_error(y_test, predictions).numpy().mean().item()\n",
    "\n",
    "        return loss, {\"mae\": mae}\n",
    "\n",
    "    return evaluate\n",
    "\n",
    "def fit_config(server_round: int):\n",
    "    \"\"\"Return training configuration dict for each round.\n",
    "\n",
    "    Keep batch size fixed at 32, perform two rounds of training with one local epoch,\n",
    "    increase to two local epochs afterwards.\n",
    "    \"\"\"\n",
    "    config = {\n",
    "        \"batch_size\": 128,\n",
    "        \"local_epochs\": 1 if server_round < 2 else 2,\n",
    "    }\n",
    "    return config\n",
    "\n",
    "\n",
    "def evaluate_config(server_round: int):\n",
    "    \"\"\"Return evaluation configuration dict for each round.\n",
    "\n",
    "    Perform five local evaluation steps on each client (i.e., use five batches) during\n",
    "    rounds one to three, then increase to ten local evaluation steps.\n",
    "    \"\"\"\n",
    "    val_steps = 5 if server_round < 4 else 10\n",
    "    return {\"val_steps\": val_steps}"
   ]
  },
  {
   "cell_type": "code",
   "execution_count": null,
   "metadata": {},
   "outputs": [],
   "source": [
    "(x_train, y_train), (x_test, y_test) = ut.partition_dataset(2,3,1)\n",
    "\n",
    "model = tf.keras.models.Sequential(\n",
    "    [\n",
    "        layers.Input(shape=(8,)),  \n",
    "        layers.Dense(64, activation='relu'),\n",
    "        layers.Dense(64, activation='relu'),  \n",
    "        layers.Dense(1)  \n",
    "    ]\n",
    ")\n",
    "model.compile(optimizer='adam', loss='mean_squared_error', metrics=['mae', 'mse'])\n",
    "\n",
    "strategy = fl.server.strategy.FedAvg(\n",
    "    fraction_fit=0.75,\n",
    "    fraction_evaluate=1,\n",
    "    min_fit_clients=3,\n",
    "    min_evaluate_clients=4,\n",
    "    min_available_clients=4,\n",
    "    evaluate_fn=get_evaluate_fn(model,x_test,y_test),\n",
    "    on_fit_config_fn=fit_config,\n",
    "    on_evaluate_config_fn=evaluate_config,\n",
    "    initial_parameters=fl.common.ndarrays_to_parameters(model.get_weights()),\n",
    ")\n",
    "# Start Flower server\n",
    "history = fl.server.start_server(\n",
    "    server_address=\"127.0.0.1:8080\",\n",
    "    config=fl.server.ServerConfig(num_rounds=10),\n",
    "    strategy = strategy\n",
    ")\n",
    "\n"
   ]
  },
  {
   "cell_type": "code",
   "execution_count": null,
   "metadata": {},
   "outputs": [],
   "source": [
    "print(history)"
   ]
  }
 ],
 "metadata": {
  "language_info": {
   "name": "python"
  }
 },
 "nbformat": 4,
 "nbformat_minor": 2
}
