{
 "cells": [
  {
   "cell_type": "code",
   "execution_count": 13,
   "metadata": {},
   "outputs": [],
   "source": [
    "import flwr as fl\n",
    "import tensorflow as tf\n",
    "from tensorflow import keras\n",
    "from keras import layers\n",
    "import utils as ut\n",
    "import numpy as np\n",
    "from typing import Dict, Optional, Tuple"
   ]
  },
  {
   "cell_type": "code",
   "execution_count": 14,
   "metadata": {},
   "outputs": [],
   "source": [
    "def get_model():\n",
    "    model = tf.keras.models.Sequential(\n",
    "        [\n",
    "            layers.Input(shape=(8,)),  \n",
    "            layers.Dense(64, activation='relu'),\n",
    "            layers.Dense(64, activation='relu'),  \n",
    "            layers.Dense(1)  \n",
    "        ]\n",
    "    )\n",
    "    model.compile(optimizer='adam', loss='mean_squared_error', metrics=['mae', 'mse'])\n",
    "    return model"
   ]
  },
  {
   "cell_type": "code",
   "execution_count": 15,
   "metadata": {},
   "outputs": [],
   "source": [
    "class CifarClient(fl.client.NumPyClient):\n",
    "    def __init__(self, model, x_train, y_train, x_test, y_test):\n",
    "        self.model = model\n",
    "        self.x_train, self.y_train = x_train, y_train\n",
    "        self.x_test, self.y_test = x_test, y_test\n",
    "\n",
    "    def fit(self, parameters, config):\n",
    "        \"\"\"Train parameters on the locally held training set.\"\"\"\n",
    "\n",
    "        # Update local model parameters\n",
    "        self.model.set_weights(parameters)\n",
    "\n",
    "        # Get hyperparameters for this round\n",
    "        batch_size: int = config[\"batch_size\"]\n",
    "        epochs: int = config[\"local_epochs\"]\n",
    "\n",
    "        # Train the model using hyperparameters from config\n",
    "        history = self.model.fit(\n",
    "            self.x_train,\n",
    "            self.y_train,\n",
    "            batch_size=batch_size,\n",
    "            epochs=epochs,\n",
    "            validation_split=0.2,\n",
    "        )\n",
    "\n",
    "        # Return updated model parameters, number of examples trained, and results\n",
    "        parameters_prime = self.model.get_weights()\n",
    "        num_examples_train = len(self.x_train)\n",
    "        results = {\n",
    "            \"mse\": history.history[\"mse\"][-1],  # Use the last epoch's MSE\n",
    "            \"mae\": history.history[\"mae\"][-1],  # Use the last epoch's MAE\n",
    "            \"val_mse\": history.history[\"val_mse\"][-1],  # Use the last epoch's validation MSE\n",
    "            \"val_mae\": history.history[\"val_mae\"][-1],  # Use the last epoch's validation MAE\n",
    "        }\n",
    "\n",
    "        return parameters_prime, num_examples_train, results\n",
    "\n",
    "    def get_parameters(self):\n",
    "        \"\"\"Get the current parameters of the local model.\"\"\"\n",
    "        return self.model.get_weights()\n",
    "\n",
    "    def evaluate(self, parameters, config):\n",
    "        \"\"\"Evaluate parameters on the locally held test set.\"\"\"\n",
    "        self.model.set_weights(parameters)\n",
    "        loss = tf.keras.losses.mean_squared_error(self.y_test, self.model.predict(self.x_test)).numpy().mean().item()\n",
    "        mae = tf.keras.metrics.mean_absolute_error(self.y_test, self.model.predict(self.x_test)).numpy().mean().item()\n",
    "        print(\"*************LOSS******************\",loss)\n",
    "        print(\"************MAE********************\",mae)\n",
    "        return loss, len(self.x_train), {\"mae\": mae}\n",
    "\n",
    "    def get_weights(self):\n",
    "        \"\"\"Get the current weights of the local model.\"\"\"\n",
    "        return self.model.get_weights()\n",
    "\n",
    "    def set_weights(self, weights):\n",
    "        \"\"\"Set the weights of the local model.\"\"\"\n",
    "        self.model.set_weights(weights)"
   ]
  },
  {
   "cell_type": "code",
   "execution_count": 16,
   "metadata": {},
   "outputs": [
    {
     "name": "stderr",
     "output_type": "stream",
     "text": [
      "INFO flwr 2023-11-23 01:42:36,479 | grpc.py:49 | Opened insecure gRPC connection (no certificates were passed)\n",
      "DEBUG flwr 2023-11-23 01:42:36,498 | connection.py:42 | ChannelConnectivity.IDLE\n",
      "DEBUG flwr 2023-11-23 01:42:36,502 | connection.py:42 | ChannelConnectivity.READY\n"
     ]
    },
    {
     "name": "stdout",
     "output_type": "stream",
     "text": [
      "26/26 [==============================] - 1s 12ms/step - loss: 4.6206 - mae: 1.7997 - mse: 4.6206 - val_loss: 3.0368 - val_mae: 1.3524 - val_mse: 3.0368\n",
      "129/129 [==============================] - 0s 1ms/step\n",
      "129/129 [==============================] - 0s 1ms/step\n",
      "*************LOSS****************** 2.9103686809539795\n",
      "************MAE******************** 1.2954483032226562\n",
      "Epoch 1/2\n",
      "26/26 [==============================] - 0s 5ms/step - loss: 1.7674 - mae: 0.9897 - mse: 1.7674 - val_loss: 1.1272 - val_mae: 0.8807 - val_mse: 1.1272\n",
      "Epoch 2/2\n",
      "26/26 [==============================] - 0s 3ms/step - loss: 1.1445 - mae: 0.8775 - mse: 1.1445 - val_loss: 1.0285 - val_mae: 0.8129 - val_mse: 1.0285\n",
      "129/129 [==============================] - 0s 1ms/step\n",
      "129/129 [==============================] - 0s 1ms/step\n",
      "*************LOSS****************** 1.3876734972000122\n",
      "************MAE******************** 0.9221519827842712\n",
      "129/129 [==============================] - 0s 1ms/step\n",
      "129/129 [==============================] - 0s 1ms/step\n",
      "*************LOSS****************** 1.494423508644104\n",
      "************MAE******************** 0.9639512300491333\n",
      "129/129 [==============================] - 0s 1ms/step\n",
      "129/129 [==============================] - 0s 1ms/step\n",
      "*************LOSS****************** 1.8109973669052124\n",
      "************MAE******************** 1.0409014225006104\n",
      "Epoch 1/2\n",
      "26/26 [==============================] - 0s 5ms/step - loss: 0.6277 - mae: 0.5964 - mse: 0.6277 - val_loss: 0.6288 - val_mae: 0.6100 - val_mse: 0.6288\n",
      "Epoch 2/2\n",
      "26/26 [==============================] - 0s 3ms/step - loss: 0.6031 - mae: 0.5783 - mse: 0.6031 - val_loss: 0.6225 - val_mae: 0.5916 - val_mse: 0.6225\n",
      "129/129 [==============================] - 0s 1ms/step\n",
      "129/129 [==============================] - 0s 1ms/step\n",
      "*************LOSS****************** 2.0660860538482666\n",
      "************MAE******************** 1.1044645309448242\n",
      "129/129 [==============================] - 0s 2ms/step\n",
      "129/129 [==============================] - 0s 1ms/step\n",
      "*************LOSS****************** 2.0793609619140625\n",
      "************MAE******************** 1.1045624017715454\n",
      "Epoch 1/2\n",
      "26/26 [==============================] - 0s 5ms/step - loss: 0.5859 - mae: 0.5683 - mse: 0.5859 - val_loss: 0.6072 - val_mae: 0.5777 - val_mse: 0.6072\n",
      "Epoch 2/2\n",
      "26/26 [==============================] - 0s 3ms/step - loss: 0.5810 - mae: 0.5635 - mse: 0.5810 - val_loss: 0.6108 - val_mae: 0.5938 - val_mse: 0.6108\n",
      "129/129 [==============================] - 0s 1ms/step\n",
      "129/129 [==============================] - 0s 1ms/step\n",
      "*************LOSS****************** 2.0867295265197754\n",
      "************MAE******************** 1.1128555536270142\n",
      "129/129 [==============================] - 0s 1ms/step\n",
      "129/129 [==============================] - 0s 1ms/step\n",
      "*************LOSS****************** 2.0804426670074463\n",
      "************MAE******************** 1.1065306663513184\n",
      "Epoch 1/2\n",
      "26/26 [==============================] - 0s 5ms/step - loss: 0.5769 - mae: 0.5644 - mse: 0.5769 - val_loss: 0.5904 - val_mae: 0.5730 - val_mse: 0.5904\n",
      "Epoch 2/2\n",
      "26/26 [==============================] - 0s 3ms/step - loss: 0.5673 - mae: 0.5572 - mse: 0.5673 - val_loss: 0.5930 - val_mae: 0.5824 - val_mse: 0.5930\n",
      "129/129 [==============================] - 0s 1ms/step\n",
      "129/129 [==============================] - 0s 1ms/step\n",
      "*************LOSS****************** 2.1066629886627197\n",
      "************MAE******************** 1.1165728569030762\n",
      "Epoch 1/2\n",
      "26/26 [==============================] - 0s 5ms/step - loss: 0.5638 - mae: 0.5550 - mse: 0.5638 - val_loss: 0.5840 - val_mae: 0.5675 - val_mse: 0.5840\n",
      "Epoch 2/2\n",
      "26/26 [==============================] - 0s 3ms/step - loss: 0.5586 - mae: 0.5507 - mse: 0.5586 - val_loss: 0.5830 - val_mae: 0.5672 - val_mse: 0.5830\n",
      "129/129 [==============================] - 0s 1ms/step\n",
      "129/129 [==============================] - 0s 1ms/step\n",
      "*************LOSS****************** 2.112994909286499\n",
      "************MAE******************** 1.1158357858657837\n"
     ]
    },
    {
     "name": "stderr",
     "output_type": "stream",
     "text": [
      "DEBUG flwr 2023-11-23 01:43:14,809 | connection.py:139 | gRPC channel closed\n",
      "INFO flwr 2023-11-23 01:43:14,811 | app.py:215 | Disconnect and shut down\n"
     ]
    }
   ],
   "source": [
    "(x_train, y_train), (x_test, y_test) = ut.partition_dataset(2,4,0)\n",
    "\n",
    "client = CifarClient(get_model(), x_train, y_train, x_test, y_test)\n",
    "\n",
    "history = fl.client.start_numpy_client(\n",
    "server_address=\"127.0.0.1:8080\",\n",
    "client=client,\n",
    ")"
   ]
  },
  {
   "cell_type": "code",
   "execution_count": 20,
   "metadata": {},
   "outputs": [
    {
     "name": "stderr",
     "output_type": "stream",
     "text": [
      "INFO flwr 2023-11-23 01:45:52,471 | grpc.py:49 | Opened insecure gRPC connection (no certificates were passed)\n",
      "DEBUG flwr 2023-11-23 01:45:52,490 | connection.py:42 | ChannelConnectivity.IDLE\n",
      "DEBUG flwr 2023-11-23 01:45:52,493 | connection.py:42 | ChannelConnectivity.READY\n"
     ]
    },
    {
     "name": "stdout",
     "output_type": "stream",
     "text": [
      "129/129 [==============================] - 0s 1ms/step\n",
      "129/129 [==============================] - 0s 1ms/step\n",
      "*************LOSS****************** 2.0978851318359375\n",
      "************MAE******************** 1.115322470664978\n",
      "Epoch 1/2\n",
      "26/26 [==============================] - 1s 9ms/step - loss: 0.5470 - mae: 0.5458 - mse: 0.5470 - val_loss: 0.5651 - val_mae: 0.5562 - val_mse: 0.5651\n",
      "Epoch 2/2\n",
      "26/26 [==============================] - 0s 3ms/step - loss: 0.5390 - mae: 0.5361 - mse: 0.5390 - val_loss: 0.5716 - val_mae: 0.5753 - val_mse: 0.5716\n",
      "129/129 [==============================] - 0s 1ms/step\n",
      "129/129 [==============================] - 0s 1ms/step\n",
      "*************LOSS****************** 2.1095409393310547\n",
      "************MAE******************** 1.1189020872116089\n",
      "129/129 [==============================] - 0s 2ms/step\n",
      "129/129 [==============================] - 0s 1ms/step\n",
      "*************LOSS****************** 2.103264808654785\n",
      "************MAE******************** 1.1168915033340454\n",
      "Epoch 1/2\n",
      "26/26 [==============================] - 0s 6ms/step - loss: 0.5235 - mae: 0.5295 - mse: 0.5235 - val_loss: 0.5532 - val_mae: 0.5584 - val_mse: 0.5532\n",
      "Epoch 2/2\n",
      "26/26 [==============================] - 0s 4ms/step - loss: 0.5245 - mae: 0.5291 - mse: 0.5245 - val_loss: 0.5542 - val_mae: 0.5623 - val_mse: 0.5542\n",
      "129/129 [==============================] - 0s 2ms/step\n",
      "129/129 [==============================] - 0s 1ms/step\n",
      "*************LOSS****************** 2.119640588760376\n",
      "************MAE******************** 1.1234972476959229\n",
      "Epoch 1/2\n",
      "26/26 [==============================] - 0s 5ms/step - loss: 0.5191 - mae: 0.5291 - mse: 0.5191 - val_loss: 0.5430 - val_mae: 0.5512 - val_mse: 0.5430\n",
      "Epoch 2/2\n",
      "26/26 [==============================] - 0s 3ms/step - loss: 0.5132 - mae: 0.5217 - mse: 0.5132 - val_loss: 0.5366 - val_mae: 0.5410 - val_mse: 0.5366\n",
      "129/129 [==============================] - 0s 1ms/step\n",
      "129/129 [==============================] - 0s 1ms/step\n",
      "*************LOSS****************** 2.1284210681915283\n",
      "************MAE******************** 1.124629259109497\n",
      "Epoch 1/2\n",
      "26/26 [==============================] - 0s 5ms/step - loss: 0.5138 - mae: 0.5274 - mse: 0.5138 - val_loss: 0.5396 - val_mae: 0.5295 - val_mse: 0.5396\n",
      "Epoch 2/2\n",
      "26/26 [==============================] - 0s 3ms/step - loss: 0.5087 - mae: 0.5176 - mse: 0.5087 - val_loss: 0.5334 - val_mae: 0.5467 - val_mse: 0.5334\n",
      "129/129 [==============================] - 0s 1ms/step\n",
      "129/129 [==============================] - 0s 1ms/step\n",
      "*************LOSS****************** 2.1420881748199463\n",
      "************MAE******************** 1.1313738822937012\n",
      "Epoch 1/2\n",
      "26/26 [==============================] - 0s 5ms/step - loss: 0.5032 - mae: 0.5198 - mse: 0.5032 - val_loss: 0.5292 - val_mae: 0.5282 - val_mse: 0.5292\n",
      "Epoch 2/2\n",
      "26/26 [==============================] - 0s 3ms/step - loss: 0.4982 - mae: 0.5108 - mse: 0.4982 - val_loss: 0.5253 - val_mae: 0.5372 - val_mse: 0.5253\n",
      "129/129 [==============================] - 0s 2ms/step\n",
      "129/129 [==============================] - 0s 1ms/step\n",
      "*************LOSS****************** 2.1244852542877197\n",
      "************MAE******************** 1.1255003213882446\n",
      "Epoch 1/2\n",
      "26/26 [==============================] - 0s 6ms/step - loss: 0.4958 - mae: 0.5114 - mse: 0.4958 - val_loss: 0.5213 - val_mae: 0.5312 - val_mse: 0.5213\n",
      "Epoch 2/2\n",
      "26/26 [==============================] - 0s 4ms/step - loss: 0.4956 - mae: 0.5121 - mse: 0.4956 - val_loss: 0.5232 - val_mae: 0.5226 - val_mse: 0.5232\n",
      "129/129 [==============================] - 0s 1ms/step\n",
      "129/129 [==============================] - 0s 1ms/step\n",
      "*************LOSS****************** 2.13070011138916\n",
      "************MAE******************** 1.1263831853866577\n",
      "129/129 [==============================] - 0s 2ms/step\n",
      "129/129 [==============================] - 0s 2ms/step\n",
      "*************LOSS****************** 2.12174916267395\n",
      "************MAE******************** 1.1231682300567627\n",
      "Epoch 1/2\n",
      "26/26 [==============================] - 0s 5ms/step - loss: 0.4841 - mae: 0.5062 - mse: 0.4841 - val_loss: 0.5109 - val_mae: 0.5253 - val_mse: 0.5109\n",
      "Epoch 2/2\n",
      "26/26 [==============================] - 0s 3ms/step - loss: 0.4813 - mae: 0.5012 - mse: 0.4813 - val_loss: 0.5102 - val_mae: 0.5339 - val_mse: 0.5102\n",
      "129/129 [==============================] - 0s 1ms/step\n",
      "129/129 [==============================] - 0s 2ms/step\n",
      "*************LOSS****************** 2.157604455947876\n",
      "************MAE******************** 1.139198660850525\n"
     ]
    },
    {
     "name": "stderr",
     "output_type": "stream",
     "text": [
      "DEBUG flwr 2023-11-23 01:46:33,097 | connection.py:139 | gRPC channel closed\n",
      "INFO flwr 2023-11-23 01:46:33,099 | app.py:215 | Disconnect and shut down\n"
     ]
    }
   ],
   "source": [
    "(x_train, y_train), (x_test, y_test) = ut.partition_dataset(0,4,0)\n",
    "\n",
    "client = CifarClient(get_model(), x_train, y_train, x_test, y_test)\n",
    "\n",
    "history = fl.client.start_numpy_client(\n",
    "server_address=\"127.0.0.1:8082\",\n",
    "client=client,\n",
    ")"
   ]
  },
  {
   "cell_type": "code",
   "execution_count": null,
   "metadata": {},
   "outputs": [
    {
     "name": "stdout",
     "output_type": "stream",
     "text": [
      "None\n"
     ]
    }
   ],
   "source": [
    "(x_train, y_train), (x_test, y_test) = ut.partition_dataset(-2,4,0)\n",
    "\n",
    "client = CifarClient(get_model(), x_train, y_train, x_test, y_test)\n",
    "\n",
    "history = fl.client.start_numpy_client(\n",
    "server_address=\"127.0.0.1:8082\",\n",
    "client=client,\n",
    ")"
   ]
  }
 ],
 "metadata": {
  "kernelspec": {
   "display_name": "Python 3",
   "language": "python",
   "name": "python3"
  },
  "language_info": {
   "codemirror_mode": {
    "name": "ipython",
    "version": 3
   },
   "file_extension": ".py",
   "mimetype": "text/x-python",
   "name": "python",
   "nbconvert_exporter": "python",
   "pygments_lexer": "ipython3",
   "version": "3.11.4"
  }
 },
 "nbformat": 4,
 "nbformat_minor": 2
}
