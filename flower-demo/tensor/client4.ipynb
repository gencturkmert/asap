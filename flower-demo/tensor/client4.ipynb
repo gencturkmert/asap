{
 "cells": [
  {
   "cell_type": "code",
   "execution_count": 12,
   "metadata": {},
   "outputs": [],
   "source": [
    "import flwr as fl\n",
    "import tensorflow as tf\n",
    "from tensorflow import keras\n",
    "from keras import layers\n",
    "import utils as ut\n",
    "import numpy as np\n",
    "from typing import Dict, Optional, Tuple"
   ]
  },
  {
   "cell_type": "code",
   "execution_count": 13,
   "metadata": {},
   "outputs": [],
   "source": [
    "def get_model():\n",
    "    model = tf.keras.models.Sequential(\n",
    "        [\n",
    "            layers.Input(shape=(8,)),  \n",
    "            layers.Dense(64, activation='relu'),\n",
    "            layers.Dense(64, activation='relu'),  \n",
    "            layers.Dense(1)  \n",
    "        ]\n",
    "    )\n",
    "    model.compile(optimizer='adam', loss='mean_squared_error', metrics=['mae', 'mse'])\n",
    "    return model"
   ]
  },
  {
   "cell_type": "code",
   "execution_count": 14,
   "metadata": {},
   "outputs": [],
   "source": [
    "class CifarClient(fl.client.NumPyClient):\n",
    "    def __init__(self, model, x_train, y_train, x_test, y_test):\n",
    "        self.model = model\n",
    "        self.x_train, self.y_train = x_train, y_train\n",
    "        self.x_test, self.y_test = x_test, y_test\n",
    "\n",
    "    def fit(self, parameters, config):\n",
    "        \"\"\"Train parameters on the locally held training set.\"\"\"\n",
    "\n",
    "        # Update local model parameters\n",
    "        self.model.set_weights(parameters)\n",
    "\n",
    "        # Get hyperparameters for this round\n",
    "        batch_size: int = config[\"batch_size\"]\n",
    "        epochs: int = config[\"local_epochs\"]\n",
    "\n",
    "        # Train the model using hyperparameters from config\n",
    "        history = self.model.fit(\n",
    "            self.x_train,\n",
    "            self.y_train,\n",
    "            batch_size=batch_size,\n",
    "            epochs=epochs,\n",
    "            validation_split=0.2,\n",
    "        )\n",
    "\n",
    "        # Return updated model parameters, number of examples trained, and results\n",
    "        parameters_prime = self.model.get_weights()\n",
    "        num_examples_train = len(self.x_train)\n",
    "        results = {\n",
    "            \"mse\": history.history[\"mse\"][-1],  # Use the last epoch's MSE\n",
    "            \"mae\": history.history[\"mae\"][-1],  # Use the last epoch's MAE\n",
    "            \"val_mse\": history.history[\"val_mse\"][-1],  # Use the last epoch's validation MSE\n",
    "            \"val_mae\": history.history[\"val_mae\"][-1],  # Use the last epoch's validation MAE\n",
    "        }\n",
    "\n",
    "        return parameters_prime, num_examples_train, results\n",
    "\n",
    "    def get_parameters(self):\n",
    "        \"\"\"Get the current parameters of the local model.\"\"\"\n",
    "        return self.model.get_weights()\n",
    "\n",
    "    def evaluate(self, parameters, config):\n",
    "        \"\"\"Evaluate parameters on the locally held test set.\"\"\"\n",
    "        self.model.set_weights(parameters)\n",
    "        loss = tf.keras.losses.mean_squared_error(self.y_test, self.model.predict(self.x_test)).numpy().mean().item()\n",
    "        mae = tf.keras.metrics.mean_absolute_error(self.y_test, self.model.predict(self.x_test)).numpy().mean().item()\n",
    "        print(\"*************LOSS******************\",loss)\n",
    "        print(\"************MAE********************\",mae)\n",
    "        return loss, len(self.x_train), {\"mae\": mae}\n",
    "\n",
    "    def get_weights(self):\n",
    "        \"\"\"Get the current weights of the local model.\"\"\"\n",
    "        return self.model.get_weights()\n",
    "\n",
    "    def set_weights(self, weights):\n",
    "        \"\"\"Set the weights of the local model.\"\"\"\n",
    "        self.model.set_weights(weights)"
   ]
  },
  {
   "cell_type": "code",
   "execution_count": 15,
   "metadata": {},
   "outputs": [
    {
     "name": "stderr",
     "output_type": "stream",
     "text": [
      "INFO flwr 2023-11-23 01:42:59,013 | grpc.py:49 | Opened insecure gRPC connection (no certificates were passed)\n",
      "DEBUG flwr 2023-11-23 01:42:59,033 | connection.py:42 | ChannelConnectivity.IDLE\n",
      "DEBUG flwr 2023-11-23 01:42:59,036 | connection.py:42 | ChannelConnectivity.READY\n"
     ]
    },
    {
     "name": "stdout",
     "output_type": "stream",
     "text": [
      "129/129 [==============================] - 0s 1ms/step\n",
      "129/129 [==============================] - 0s 1ms/step\n",
      "*************LOSS****************** 2.9103686809539795\n",
      "************MAE******************** 1.2954483032226562\n",
      "Epoch 1/2\n",
      "26/26 [==============================] - 1s 11ms/step - loss: 1.7216 - mae: 0.9683 - mse: 1.7216 - val_loss: 1.2571 - val_mae: 0.9020 - val_mse: 1.2571\n",
      "Epoch 2/2\n",
      "26/26 [==============================] - 0s 3ms/step - loss: 1.1135 - mae: 0.8525 - mse: 1.1135 - val_loss: 1.1599 - val_mae: 0.8233 - val_mse: 1.1599\n",
      "129/129 [==============================] - 0s 1ms/step\n",
      "129/129 [==============================] - 0s 1ms/step\n",
      "*************LOSS****************** 1.3876734972000122\n",
      "************MAE******************** 0.9221519827842712\n",
      "Epoch 1/2\n",
      "26/26 [==============================] - 0s 5ms/step - loss: 0.9794 - mae: 0.7788 - mse: 0.9794 - val_loss: 1.0241 - val_mae: 0.7898 - val_mse: 1.0241\n",
      "Epoch 2/2\n",
      "26/26 [==============================] - 0s 3ms/step - loss: 0.8637 - mae: 0.7309 - mse: 0.8637 - val_loss: 0.8909 - val_mae: 0.7288 - val_mse: 0.8909\n",
      "129/129 [==============================] - 0s 2ms/step\n",
      "129/129 [==============================] - 0s 1ms/step\n",
      "*************LOSS****************** 1.494423508644104\n",
      "************MAE******************** 0.9639512300491333\n",
      "Epoch 1/2\n",
      "26/26 [==============================] - 0s 5ms/step - loss: 0.7761 - mae: 0.6872 - mse: 0.7761 - val_loss: 0.8127 - val_mae: 0.6644 - val_mse: 0.8127\n",
      "Epoch 2/2\n",
      "26/26 [==============================] - 0s 3ms/step - loss: 0.6696 - mae: 0.6223 - mse: 0.6696 - val_loss: 0.7133 - val_mae: 0.6254 - val_mse: 0.7133\n",
      "129/129 [==============================] - 0s 1ms/step\n",
      "129/129 [==============================] - 0s 1ms/step\n",
      "*************LOSS****************** 1.8109973669052124\n",
      "************MAE******************** 1.0409014225006104\n",
      "Epoch 1/2\n",
      "26/26 [==============================] - 0s 5ms/step - loss: 0.6277 - mae: 0.5906 - mse: 0.6277 - val_loss: 0.6889 - val_mae: 0.5971 - val_mse: 0.6889\n",
      "Epoch 2/2\n",
      "26/26 [==============================] - 0s 3ms/step - loss: 0.6162 - mae: 0.5818 - mse: 0.6162 - val_loss: 0.6721 - val_mae: 0.6064 - val_mse: 0.6721\n",
      "129/129 [==============================] - 0s 1ms/step\n",
      "129/129 [==============================] - 0s 1ms/step\n",
      "*************LOSS****************** 2.0660860538482666\n",
      "************MAE******************** 1.1044645309448242\n",
      "Epoch 1/2\n",
      "26/26 [==============================] - 0s 5ms/step - loss: 0.6073 - mae: 0.5736 - mse: 0.6073 - val_loss: 0.6805 - val_mae: 0.5836 - val_mse: 0.6805\n",
      "Epoch 2/2\n",
      "26/26 [==============================] - 0s 3ms/step - loss: 0.6044 - mae: 0.5750 - mse: 0.6044 - val_loss: 0.6656 - val_mae: 0.5882 - val_mse: 0.6656\n",
      "129/129 [==============================] - 0s 2ms/step\n",
      "129/129 [==============================] - 0s 1ms/step\n",
      "*************LOSS****************** 2.0793609619140625\n",
      "************MAE******************** 1.1045624017715454\n",
      "Epoch 1/2\n",
      "26/26 [==============================] - 0s 5ms/step - loss: 0.6022 - mae: 0.5660 - mse: 0.6022 - val_loss: 0.6570 - val_mae: 0.5916 - val_mse: 0.6570\n",
      "Epoch 2/2\n",
      "26/26 [==============================] - 0s 3ms/step - loss: 0.5980 - mae: 0.5696 - mse: 0.5980 - val_loss: 0.6635 - val_mae: 0.5791 - val_mse: 0.6635\n",
      "129/129 [==============================] - 0s 1ms/step\n",
      "129/129 [==============================] - 0s 1ms/step\n",
      "*************LOSS****************** 2.0867295265197754\n",
      "************MAE******************** 1.1128555536270142\n",
      "Epoch 1/2\n",
      "26/26 [==============================] - 0s 6ms/step - loss: 0.5904 - mae: 0.5642 - mse: 0.5904 - val_loss: 0.6488 - val_mae: 0.5845 - val_mse: 0.6488\n",
      "Epoch 2/2\n",
      "26/26 [==============================] - 0s 3ms/step - loss: 0.5850 - mae: 0.5629 - mse: 0.5850 - val_loss: 0.6575 - val_mae: 0.5733 - val_mse: 0.6575\n",
      "129/129 [==============================] - 0s 1ms/step\n",
      "129/129 [==============================] - 0s 1ms/step\n",
      "*************LOSS****************** 2.0804426670074463\n",
      "************MAE******************** 1.1065306663513184\n",
      "129/129 [==============================] - 0s 1ms/step\n",
      "129/129 [==============================] - 0s 1ms/step\n",
      "*************LOSS****************** 2.1066629886627197\n",
      "************MAE******************** 1.1165728569030762\n",
      "129/129 [==============================] - 0s 1ms/step\n",
      "129/129 [==============================] - 0s 1ms/step\n"
     ]
    },
    {
     "name": "stderr",
     "output_type": "stream",
     "text": [
      "DEBUG flwr 2023-11-23 01:43:14,808 | connection.py:139 | gRPC channel closed\n"
     ]
    },
    {
     "name": "stdout",
     "output_type": "stream",
     "text": [
      "*************LOSS****************** 2.112994909286499\n",
      "************MAE******************** 1.1158357858657837\n"
     ]
    },
    {
     "name": "stderr",
     "output_type": "stream",
     "text": [
      "INFO flwr 2023-11-23 01:43:14,810 | app.py:215 | Disconnect and shut down\n"
     ]
    }
   ],
   "source": [
    "(x_train, y_train), (x_test, y_test) = ut.partition_dataset(2,4,3)\n",
    "\n",
    "client = CifarClient(get_model(), x_train, y_train, x_test, y_test)\n",
    "\n",
    "history = fl.client.start_numpy_client(\n",
    "server_address=\"127.0.0.1:8080\",\n",
    "client=client,\n",
    ")"
   ]
  },
  {
   "cell_type": "code",
   "execution_count": 17,
   "metadata": {},
   "outputs": [
    {
     "name": "stderr",
     "output_type": "stream",
     "text": [
      "INFO flwr 2023-11-23 01:46:16,390 | grpc.py:49 | Opened insecure gRPC connection (no certificates were passed)\n",
      "DEBUG flwr 2023-11-23 01:46:16,411 | connection.py:42 | ChannelConnectivity.IDLE\n",
      "DEBUG flwr 2023-11-23 01:46:16,414 | connection.py:42 | ChannelConnectivity.READY\n"
     ]
    },
    {
     "name": "stdout",
     "output_type": "stream",
     "text": [
      "26/26 [==============================] - 1s 21ms/step - loss: 0.5684 - mae: 0.5463 - mse: 0.5684 - val_loss: 0.6232 - val_mae: 0.5632 - val_mse: 0.6232\n",
      "129/129 [==============================] - 0s 1ms/step\n",
      "129/129 [==============================] - 0s 1ms/step\n",
      "*************LOSS****************** 2.0978851318359375\n",
      "************MAE******************** 1.115322470664978\n",
      "Epoch 1/2\n",
      "26/26 [==============================] - 0s 5ms/step - loss: 0.5601 - mae: 0.5461 - mse: 0.5601 - val_loss: 0.6204 - val_mae: 0.5612 - val_mse: 0.6204\n",
      "Epoch 2/2\n",
      "26/26 [==============================] - 0s 3ms/step - loss: 0.5533 - mae: 0.5416 - mse: 0.5533 - val_loss: 0.6123 - val_mae: 0.5588 - val_mse: 0.6123\n",
      "129/129 [==============================] - 0s 1ms/step\n",
      "129/129 [==============================] - 0s 1ms/step\n",
      "*************LOSS****************** 2.1095409393310547\n",
      "************MAE******************** 1.1189020872116089\n",
      "Epoch 1/2\n",
      "26/26 [==============================] - 0s 6ms/step - loss: 0.5495 - mae: 0.5349 - mse: 0.5495 - val_loss: 0.6053 - val_mae: 0.5581 - val_mse: 0.6053\n",
      "Epoch 2/2\n",
      "26/26 [==============================] - 0s 3ms/step - loss: 0.5451 - mae: 0.5378 - mse: 0.5451 - val_loss: 0.6277 - val_mae: 0.5444 - val_mse: 0.6277\n",
      "129/129 [==============================] - 0s 2ms/step\n",
      "129/129 [==============================] - 0s 1ms/step\n",
      "*************LOSS****************** 2.103264808654785\n",
      "************MAE******************** 1.1168915033340454\n",
      "Epoch 1/2\n",
      "26/26 [==============================] - 0s 6ms/step - loss: 0.5448 - mae: 0.5324 - mse: 0.5448 - val_loss: 0.5972 - val_mae: 0.5555 - val_mse: 0.5972\n",
      "Epoch 2/2\n",
      "26/26 [==============================] - 0s 4ms/step - loss: 0.5446 - mae: 0.5382 - mse: 0.5446 - val_loss: 0.6042 - val_mae: 0.5429 - val_mse: 0.6042\n",
      "129/129 [==============================] - 0s 2ms/step\n",
      "129/129 [==============================] - 0s 1ms/step\n",
      "*************LOSS****************** 2.119640588760376\n",
      "************MAE******************** 1.1234972476959229\n",
      "129/129 [==============================] - 0s 1ms/step\n",
      "129/129 [==============================] - 0s 1ms/step\n",
      "*************LOSS****************** 2.1284210681915283\n",
      "************MAE******************** 1.124629259109497\n",
      "129/129 [==============================] - 0s 1ms/step\n",
      "129/129 [==============================] - 0s 1ms/step\n",
      "*************LOSS****************** 2.1420881748199463\n",
      "************MAE******************** 1.1313738822937012\n",
      "Epoch 1/2\n",
      "26/26 [==============================] - 0s 5ms/step - loss: 0.5192 - mae: 0.5162 - mse: 0.5192 - val_loss: 0.5761 - val_mae: 0.5376 - val_mse: 0.5761\n",
      "Epoch 2/2\n",
      "26/26 [==============================] - 0s 3ms/step - loss: 0.5119 - mae: 0.5173 - mse: 0.5119 - val_loss: 0.5816 - val_mae: 0.5276 - val_mse: 0.5816\n",
      "129/129 [==============================] - 0s 2ms/step\n",
      "129/129 [==============================] - 0s 1ms/step\n",
      "*************LOSS****************** 2.1244852542877197\n",
      "************MAE******************** 1.1255003213882446\n",
      "Epoch 1/2\n",
      "26/26 [==============================] - 0s 7ms/step - loss: 0.5095 - mae: 0.5139 - mse: 0.5095 - val_loss: 0.5741 - val_mae: 0.5265 - val_mse: 0.5741\n",
      "Epoch 2/2\n",
      "26/26 [==============================] - 0s 4ms/step - loss: 0.5053 - mae: 0.5129 - mse: 0.5053 - val_loss: 0.5724 - val_mae: 0.5260 - val_mse: 0.5724\n",
      "129/129 [==============================] - 0s 1ms/step\n",
      "129/129 [==============================] - 0s 1ms/step\n",
      "*************LOSS****************** 2.13070011138916\n",
      "************MAE******************** 1.1263831853866577\n",
      "Epoch 1/2\n",
      "26/26 [==============================] - 0s 6ms/step - loss: 0.5050 - mae: 0.5099 - mse: 0.5050 - val_loss: 0.5643 - val_mae: 0.5376 - val_mse: 0.5643\n",
      "Epoch 2/2\n",
      "26/26 [==============================] - 0s 3ms/step - loss: 0.4984 - mae: 0.5075 - mse: 0.4984 - val_loss: 0.5650 - val_mae: 0.5228 - val_mse: 0.5650\n",
      "129/129 [==============================] - 0s 2ms/step\n",
      "129/129 [==============================] - 0s 2ms/step\n",
      "*************LOSS****************** 2.12174916267395\n",
      "************MAE******************** 1.1231682300567627\n",
      "129/129 [==============================] - 0s 1ms/step\n",
      "129/129 [==============================] - 0s 2ms/step\n",
      "*************LOSS****************** 2.157604455947876\n",
      "************MAE******************** 1.139198660850525\n"
     ]
    },
    {
     "name": "stderr",
     "output_type": "stream",
     "text": [
      "DEBUG flwr 2023-11-23 01:46:33,105 | connection.py:139 | gRPC channel closed\n",
      "INFO flwr 2023-11-23 01:46:33,107 | app.py:215 | Disconnect and shut down\n"
     ]
    }
   ],
   "source": [
    "(x_train, y_train), (x_test, y_test) = ut.partition_dataset(0,4,3)\n",
    "\n",
    "client = CifarClient(get_model(), x_train, y_train, x_test, y_test)\n",
    "\n",
    "history = fl.client.start_numpy_client(\n",
    "server_address=\"127.0.0.1:8081\",\n",
    "client=client,\n",
    ")"
   ]
  },
  {
   "cell_type": "code",
   "execution_count": null,
   "metadata": {},
   "outputs": [],
   "source": [
    "(x_train, y_train), (x_test, y_test) = ut.partition_dataset(-2,4,3)\n",
    "\n",
    "client = CifarClient(get_model(), x_train, y_train, x_test, y_test)\n",
    "\n",
    "history = fl.client.start_numpy_client(\n",
    "server_address=\"127.0.0.1:8082\",\n",
    "client=client,\n",
    ")"
   ]
  },
  {
   "cell_type": "code",
   "execution_count": null,
   "metadata": {},
   "outputs": [
    {
     "name": "stdout",
     "output_type": "stream",
     "text": [
      "None\n"
     ]
    }
   ],
   "source": [
    "print(history)"
   ]
  }
 ],
 "metadata": {
  "kernelspec": {
   "display_name": "Python 3",
   "language": "python",
   "name": "python3"
  },
  "language_info": {
   "codemirror_mode": {
    "name": "ipython",
    "version": 3
   },
   "file_extension": ".py",
   "mimetype": "text/x-python",
   "name": "python",
   "nbconvert_exporter": "python",
   "pygments_lexer": "ipython3",
   "version": "3.11.4"
  }
 },
 "nbformat": 4,
 "nbformat_minor": 2
}
